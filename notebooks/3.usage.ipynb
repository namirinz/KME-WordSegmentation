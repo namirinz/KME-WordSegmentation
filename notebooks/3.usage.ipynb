{
 "metadata": {
  "language_info": {
   "codemirror_mode": {
    "name": "ipython",
    "version": 3
   },
   "file_extension": ".py",
   "mimetype": "text/x-python",
   "name": "python",
   "nbconvert_exporter": "python",
   "pygments_lexer": "ipython3",
   "version": "3.8.5-final"
  },
  "orig_nbformat": 2,
  "kernelspec": {
   "name": "Python 3.8.5 64-bit",
   "display_name": "Python 3.8.5 64-bit",
   "metadata": {
    "interpreter": {
     "hash": "767d51c1340bd893661ea55ea3124f6de3c7a262a8b4abca0554b478b1e2ff90"
    }
   }
  }
 },
 "nbformat": 4,
 "nbformat_minor": 2,
 "cells": [
  {
   "cell_type": "code",
   "execution_count": 1,
   "metadata": {
    "tags": []
   },
   "outputs": [],
   "source": [
    "import tensorflow as tf\n",
    "from kme_tokenize import Segmentation, Tokenizer\n",
    "import numpy as np"
   ]
  },
  {
   "cell_type": "code",
   "execution_count": 2,
   "metadata": {},
   "outputs": [],
   "source": [
    "kme_segment = Segmentation()\n",
    "tokenizer = Tokenizer()"
   ]
  },
  {
   "cell_type": "code",
   "execution_count": 3,
   "metadata": {
    "tags": []
   },
   "outputs": [
    {
     "output_type": "stream",
     "name": "stdout",
     "text": [
      "(18, 5)\n"
     ]
    }
   ],
   "source": [
    "text = 'cyclohexanoic acid'\n",
    "x_test = kme_segment.preprocessing_text(text)\n",
    "print(x_test.shape)"
   ]
  },
  {
   "cell_type": "code",
   "execution_count": 4,
   "metadata": {
    "tags": []
   },
   "outputs": [
    {
     "output_type": "stream",
     "name": "stdout",
     "text": [
      "[0 0 0 0 0 1 0 0 1 0 1 0 0 0 0 0 0 0]\n['cyclo', 'hex', 'an', 'oic acid']\ncyclo|hex|an|oic acid\n"
     ]
    }
   ],
   "source": [
    "predict = kme_segment.predict(x_test)\n",
    "\n",
    "pred_text, pred_text_join = kme_segment.word_segmentation(text)\n",
    "\n",
    "print(predict)\n",
    "print(pred_text)\n",
    "print(pred_text_join)"
   ]
  },
  {
   "cell_type": "code",
   "execution_count": 10,
   "metadata": {},
   "outputs": [
    {
     "output_type": "stream",
     "name": "stdout",
     "text": [
      "['meth', 'yl', ' ', 'meth', 'an', 'oate']\n['eth', 'ane']\n['(', 'hydroxy', 'meth', 'yl', 'amino', ')', 'oxy', '-', 'meth', 'oxy', 'meth', 'an', 'ol']\n"
     ]
    }
   ],
   "source": [
    "text_arr = ['methyl methanoate', 'ethane', '(hydroxymethylamino)oxy-methoxymethanol']\n",
    "for item in text_arr:\n",
    "    word, _ = kme_segment.word_segmentation(item)\n",
    "    print(word)"
   ]
  },
  {
   "cell_type": "code",
   "execution_count": 5,
   "metadata": {},
   "outputs": [
    {
     "output_type": "stream",
     "name": "stdout",
     "text": [
      "[[ 0  0  0  0  0  0  0  4  5  6  4  7  8]\n [ 0  0  0  0  0  0  0  0  0  0  0  9 10]\n [11 12  4  5 13 14 15 16  4 15  4  7 17]]\n"
     ]
    }
   ],
   "source": [
    "text_arr = ['methyl methanoate', 'ethane', '(hydroxymethylamino)oxy-methoxymethanol']\n",
    "\n",
    "tokenizer.fit_on_text(text_arr)\n",
    "\n",
    "train_seq = tokenizer.text_to_sequences(text_arr, method_pad='pre')\n",
    "print(train_seq)"
   ]
  },
  {
   "cell_type": "code",
   "execution_count": 6,
   "metadata": {},
   "outputs": [
    {
     "output_type": "stream",
     "name": "stdout",
     "text": [
      "{'<pad>': 0, '<start>': 1, '<end>': 2, '<unk>': 3, 'meth': 4, 'yl': 5, ' ': 6, 'an': 7, 'oate': 8, 'eth': 9, 'ane': 10, '(': 11, 'hydroxy': 12, 'amino': 13, ')': 14, 'oxy': 15, '-': 16, 'ol': 17}\n"
     ]
    }
   ],
   "source": [
    "print(tokenizer.word2index)"
   ]
  },
  {
   "cell_type": "code",
   "execution_count": 7,
   "metadata": {},
   "outputs": [
    {
     "output_type": "stream",
     "name": "stdout",
     "text": [
      "{'<pad>': 0, '<start>': 3, '<end>': 3, '<unk>': 0, 'meth': 5, 'yl': 2, ' ': 1, 'an': 2, 'oate': 1, 'eth': 1, 'ane': 1, '(': 1, 'hydroxy': 1, 'amino': 1, ')': 1, 'oxy': 2, '-': 1, 'ol': 1}\n"
     ]
    }
   ],
   "source": [
    "print(tokenizer.word2count)"
   ]
  },
  {
   "cell_type": "code",
   "execution_count": 8,
   "metadata": {},
   "outputs": [
    {
     "output_type": "stream",
     "name": "stdout",
     "text": [
      "[[3, 16, 11, 3, 16, 4, 15, 3, 5, 14, 16, 3, 16, 3, 3, 3]]\n[['<unk>', '-', '(', '<unk>', '-', 'meth', 'oxy', '<unk>', 'yl', ')', '-', '<unk>', '-', '<unk>', '<unk>', '<unk>']]\n"
     ]
    }
   ],
   "source": [
    "test_arr = ['2-(4-methoxyphenyl)-2-oxoacetic acid']\n",
    "\n",
    "test_seq = tokenizer.text_to_sequences(test_arr)\n",
    "print(test_seq)\n",
    "\n",
    "test_text = tokenizer.sequences_to_text(test_seq)\n",
    "print(test_text)"
   ]
  }
 ]
}