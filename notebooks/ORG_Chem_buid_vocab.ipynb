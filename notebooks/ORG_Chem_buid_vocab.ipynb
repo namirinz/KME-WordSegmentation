{
  "nbformat": 4,
  "nbformat_minor": 0,
  "metadata": {
    "colab": {
      "name": "ORG_Chem_buid_vocab.ipynb",
      "provenance": [],
      "collapsed_sections": []
    },
    "kernelspec": {
      "name": "python_defaultSpec_1600685079150",
      "display_name": "Python 3.8.6 64-bit"
    }
  },
  "cells": [
    {
      "source": [
        "# Create vocabulary for doing Word Segmentation"
      ],
      "cell_type": "markdown",
      "metadata": {}
    },
    {
      "cell_type": "code",
      "metadata": {
        "id": "hBbkzA4OEGuz",
        "colab_type": "code",
        "colab": {}
      },
      "source": [
        "Str = \" (),1234567890-abcdefghijklmnopqrstuvwxyzABCDEFGHIJKLMNOPQRSTUVWXYZ\"\n",
        "Str = sorted(set(Str))"
      ],
      "execution_count": 12,
      "outputs": []
    },
    {
      "cell_type": "code",
      "metadata": {
        "id": "jf6v3jYcQv2w",
        "colab_type": "code",
        "colab": {}
      },
      "source": [
        "Dict = {}\n",
        "for index, item in enumerate(Str):\n",
        "  Dict[item] = index\n",
        "\n",
        "# Add extra word '<pad>' for space, '<unk>' for unknown vocab\n",
        "Dict['<pad>'] = len(Dict)\n",
        "Dict['<unk>'] = len(Dict)"
      ],
      "execution_count": 13,
      "outputs": []
    },
    {
      "cell_type": "code",
      "metadata": {
        "id": "JazQdpZ0fGw1",
        "colab_type": "code",
        "colab": {
          "base_uri": "https://localhost:8080/",
          "height": 54
        },
        "outputId": "30e8a7c7-b41b-48a5-87e8-8d85ab304920",
        "tags": []
      },
      "source": [
        "print(Dict)"
      ],
      "execution_count": 14,
      "outputs": [
        {
          "output_type": "stream",
          "name": "stdout",
          "text": "{' ': 0, '(': 1, ')': 2, ',': 3, '-': 4, '0': 5, '1': 6, '2': 7, '3': 8, '4': 9, '5': 10, '6': 11, '7': 12, '8': 13, '9': 14, 'A': 15, 'B': 16, 'C': 17, 'D': 18, 'E': 19, 'F': 20, 'G': 21, 'H': 22, 'I': 23, 'J': 24, 'K': 25, 'L': 26, 'M': 27, 'N': 28, 'O': 29, 'P': 30, 'Q': 31, 'R': 32, 'S': 33, 'T': 34, 'U': 35, 'V': 36, 'W': 37, 'X': 38, 'Y': 39, 'Z': 40, 'a': 41, 'b': 42, 'c': 43, 'd': 44, 'e': 45, 'f': 46, 'g': 47, 'h': 48, 'i': 49, 'j': 50, 'k': 51, 'l': 52, 'm': 53, 'n': 54, 'o': 55, 'p': 56, 'q': 57, 'r': 58, 's': 59, 't': 60, 'u': 61, 'v': 62, 'w': 63, 'x': 64, 'y': 65, 'z': 66, '<pad>': 67, '<unk>': 68}\n"
        }
      ]
    },
    {
      "cell_type": "code",
      "metadata": {
        "id": "JsdDcTUNfPBD",
        "colab_type": "code",
        "colab": {}
      },
      "source": [
        "import json\n",
        "\n",
        "with open('files/vocab.json','w') as f:\n",
        "  json.dump(Dict, f)"
      ],
      "execution_count": 15,
      "outputs": []
    }
  ]
}