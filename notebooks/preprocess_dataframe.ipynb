{
  "nbformat": 4,
  "nbformat_minor": 0,
  "metadata": {
    "colab": {
      "name": "Untitled0.ipynb",
      "provenance": [],
      "collapsed_sections": []
    },
    "kernelspec": {
      "name": "python3",
      "display_name": "Python 3",
      "language": "python"
    }
  },
  "cells": [
    {
      "cell_type": "code",
      "metadata": {
        "id": "-h2bJGoRDZvv"
      },
      "source": [
        "import pandas as pd"
      ],
      "execution_count": 1,
      "outputs": []
    },
    {
      "cell_type": "code",
      "metadata": {
        "id": "wyJ14HFeDls7"
      },
      "source": [
        "path = 'PubChem_compound_text_ester.csv'\n",
        "df = pd.read_csv(path)"
      ],
      "execution_count": 2,
      "outputs": []
    },
    {
      "cell_type": "code",
      "metadata": {
        "colab": {
          "base_uri": "https://localhost:8080/",
          "height": 518
        },
        "id": "qmqA2QZaD0_j",
        "outputId": "80777be8-cbf3-44cd-c7b4-b27771d3a6d9"
      },
      "source": [
        "df.head()"
      ],
      "execution_count": 3,
      "outputs": [
        {
          "output_type": "execute_result",
          "data": {
            "text/plain": [
              "     cid  complexity                                           cmpdname  \\\n",
              "0   1984       350.0                                     Acetaminosalol   \n",
              "1   6635       350.0                                        Chlorfenson   \n",
              "2   7786       350.0                     Triethylene glycol dinonanoate   \n",
              "3  19668       350.0                                        Betoxycaine   \n",
              "4  25318       350.0  Diphenylacetic acid 2-(diethylamino)butyl este...   \n",
              "\n",
              "                                         cmpdsynonym      mw           mf  \\\n",
              "0  acetaminosalol|Salophen|118-57-0|Phenetsal|4-a...  271.27    C15H13NO4   \n",
              "1  Chlorfenson|Ovex|Difenson|Mitran|Ester sulfona...  303.20  C12H8Cl2O3S   \n",
              "2  106-06-9|Triethylene glycol dinonanoate|Trieth...  430.60     C24H46O6   \n",
              "3  Betoxycaine|Bethoxycaine|Betoxicainum|Betoxyca...  352.50   C19H32N2O4   \n",
              "4  NSC 40656|Diphenylacetic acid 2-(diethylamino)...  375.90  C22H30ClNO2   \n",
              "\n",
              "   polararea  xlogp  heavycnt  hbonddonor  ...                     inchikey  \\\n",
              "0       75.6    2.6        20           2  ...  TWIIVLKQFJBFPW-UHFFFAOYSA-N   \n",
              "1       51.8    4.3        18           0  ...  RZXLPPRPEOUENN-UHFFFAOYSA-N   \n",
              "2       71.1    6.8        30           0  ...  UBQXQCCAPASFJR-UHFFFAOYSA-N   \n",
              "3       74.0    2.9        25           1  ...  CXYOBRKOFHQONJ-UHFFFAOYSA-N   \n",
              "4       30.7    NaN        26           1  ...  YSHUCBOPFQLPSD-UHFFFAOYSA-N   \n",
              "\n",
              "                                           iupacname meshheadings annothits  \\\n",
              "0              (4-acetamidophenyl) 2-hydroxybenzoate          NaN  120602.0   \n",
              "1          (4-chlorophenyl) 4-chlorobenzenesulfonate          NaN  131003.0   \n",
              "2   2-[2-(2-nonanoyloxyethoxy)ethoxy]ethyl nonanoate          NaN   18192.0   \n",
              "3  2-[2-(diethylamino)ethoxy]ethyl 3-amino-4-buto...          NaN   26384.0   \n",
              "4  1-(2,2-diphenylacetyl)oxybutan-2-yl-diethylaza...          NaN    8720.0   \n",
              "\n",
              "  annothitcnt                                               aids  cidcdate  \\\n",
              "0        10.0  875,880,881,884,885,887,889,892,893,894,900,90...  20050325   \n",
              "1        15.0  248,1189,1199,1205,390724,651631,651632,651633...  20050326   \n",
              "2         5.0                                                NaN  20050327   \n",
              "3         6.0                                                NaN  20050808   \n",
              "4         3.0                                                NaN  20050808   \n",
              "\n",
              "                                          sidsrcname  \\\n",
              "0  3B Scientific (Wuhan) Corp|A&J Pharmtech CO., ...   \n",
              "1  AAA Chemistry|ABI Chem|Alfa Chemistry|AN Pharm...   \n",
              "2  AAA Chemistry|ABI Chem|Ambinter|AN PharmaTech|...   \n",
              "3  ABI Chem|Ambinter|Boc Sciences|ChEBI|ChEMBL|Ch...   \n",
              "4  ABI Chem|ChemIDplus|ChemSpider|DiscoveryGate|L...   \n",
              "\n",
              "                                             depcatg annotation  \n",
              "0  Chemical Vendors|Curation Efforts|Governmental...        NaN  \n",
              "1  Chemical Vendors|Curation Efforts|Governmental...        NaN  \n",
              "2  Chemical Vendors|Curation Efforts|Governmental...        NaN  \n",
              "3  Chemical Vendors|Curation Efforts|Governmental...        NaN  \n",
              "4  Chemical Vendors|Curation Efforts|Governmental...        NaN  \n",
              "\n",
              "[5 rows x 24 columns]"
            ],
            "text/html": "<div>\n<style scoped>\n    .dataframe tbody tr th:only-of-type {\n        vertical-align: middle;\n    }\n\n    .dataframe tbody tr th {\n        vertical-align: top;\n    }\n\n    .dataframe thead th {\n        text-align: right;\n    }\n</style>\n<table border=\"1\" class=\"dataframe\">\n  <thead>\n    <tr style=\"text-align: right;\">\n      <th></th>\n      <th>cid</th>\n      <th>complexity</th>\n      <th>cmpdname</th>\n      <th>cmpdsynonym</th>\n      <th>mw</th>\n      <th>mf</th>\n      <th>polararea</th>\n      <th>xlogp</th>\n      <th>heavycnt</th>\n      <th>hbonddonor</th>\n      <th>...</th>\n      <th>inchikey</th>\n      <th>iupacname</th>\n      <th>meshheadings</th>\n      <th>annothits</th>\n      <th>annothitcnt</th>\n      <th>aids</th>\n      <th>cidcdate</th>\n      <th>sidsrcname</th>\n      <th>depcatg</th>\n      <th>annotation</th>\n    </tr>\n  </thead>\n  <tbody>\n    <tr>\n      <th>0</th>\n      <td>1984</td>\n      <td>350.0</td>\n      <td>Acetaminosalol</td>\n      <td>acetaminosalol|Salophen|118-57-0|Phenetsal|4-a...</td>\n      <td>271.27</td>\n      <td>C15H13NO4</td>\n      <td>75.6</td>\n      <td>2.6</td>\n      <td>20</td>\n      <td>2</td>\n      <td>...</td>\n      <td>TWIIVLKQFJBFPW-UHFFFAOYSA-N</td>\n      <td>(4-acetamidophenyl) 2-hydroxybenzoate</td>\n      <td>NaN</td>\n      <td>120602.0</td>\n      <td>10.0</td>\n      <td>875,880,881,884,885,887,889,892,893,894,900,90...</td>\n      <td>20050325</td>\n      <td>3B Scientific (Wuhan) Corp|A&amp;J Pharmtech CO., ...</td>\n      <td>Chemical Vendors|Curation Efforts|Governmental...</td>\n      <td>NaN</td>\n    </tr>\n    <tr>\n      <th>1</th>\n      <td>6635</td>\n      <td>350.0</td>\n      <td>Chlorfenson</td>\n      <td>Chlorfenson|Ovex|Difenson|Mitran|Ester sulfona...</td>\n      <td>303.20</td>\n      <td>C12H8Cl2O3S</td>\n      <td>51.8</td>\n      <td>4.3</td>\n      <td>18</td>\n      <td>0</td>\n      <td>...</td>\n      <td>RZXLPPRPEOUENN-UHFFFAOYSA-N</td>\n      <td>(4-chlorophenyl) 4-chlorobenzenesulfonate</td>\n      <td>NaN</td>\n      <td>131003.0</td>\n      <td>15.0</td>\n      <td>248,1189,1199,1205,390724,651631,651632,651633...</td>\n      <td>20050326</td>\n      <td>AAA Chemistry|ABI Chem|Alfa Chemistry|AN Pharm...</td>\n      <td>Chemical Vendors|Curation Efforts|Governmental...</td>\n      <td>NaN</td>\n    </tr>\n    <tr>\n      <th>2</th>\n      <td>7786</td>\n      <td>350.0</td>\n      <td>Triethylene glycol dinonanoate</td>\n      <td>106-06-9|Triethylene glycol dinonanoate|Trieth...</td>\n      <td>430.60</td>\n      <td>C24H46O6</td>\n      <td>71.1</td>\n      <td>6.8</td>\n      <td>30</td>\n      <td>0</td>\n      <td>...</td>\n      <td>UBQXQCCAPASFJR-UHFFFAOYSA-N</td>\n      <td>2-[2-(2-nonanoyloxyethoxy)ethoxy]ethyl nonanoate</td>\n      <td>NaN</td>\n      <td>18192.0</td>\n      <td>5.0</td>\n      <td>NaN</td>\n      <td>20050327</td>\n      <td>AAA Chemistry|ABI Chem|Ambinter|AN PharmaTech|...</td>\n      <td>Chemical Vendors|Curation Efforts|Governmental...</td>\n      <td>NaN</td>\n    </tr>\n    <tr>\n      <th>3</th>\n      <td>19668</td>\n      <td>350.0</td>\n      <td>Betoxycaine</td>\n      <td>Betoxycaine|Bethoxycaine|Betoxicainum|Betoxyca...</td>\n      <td>352.50</td>\n      <td>C19H32N2O4</td>\n      <td>74.0</td>\n      <td>2.9</td>\n      <td>25</td>\n      <td>1</td>\n      <td>...</td>\n      <td>CXYOBRKOFHQONJ-UHFFFAOYSA-N</td>\n      <td>2-[2-(diethylamino)ethoxy]ethyl 3-amino-4-buto...</td>\n      <td>NaN</td>\n      <td>26384.0</td>\n      <td>6.0</td>\n      <td>NaN</td>\n      <td>20050808</td>\n      <td>ABI Chem|Ambinter|Boc Sciences|ChEBI|ChEMBL|Ch...</td>\n      <td>Chemical Vendors|Curation Efforts|Governmental...</td>\n      <td>NaN</td>\n    </tr>\n    <tr>\n      <th>4</th>\n      <td>25318</td>\n      <td>350.0</td>\n      <td>Diphenylacetic acid 2-(diethylamino)butyl este...</td>\n      <td>NSC 40656|Diphenylacetic acid 2-(diethylamino)...</td>\n      <td>375.90</td>\n      <td>C22H30ClNO2</td>\n      <td>30.7</td>\n      <td>NaN</td>\n      <td>26</td>\n      <td>1</td>\n      <td>...</td>\n      <td>YSHUCBOPFQLPSD-UHFFFAOYSA-N</td>\n      <td>1-(2,2-diphenylacetyl)oxybutan-2-yl-diethylaza...</td>\n      <td>NaN</td>\n      <td>8720.0</td>\n      <td>3.0</td>\n      <td>NaN</td>\n      <td>20050808</td>\n      <td>ABI Chem|ChemIDplus|ChemSpider|DiscoveryGate|L...</td>\n      <td>Chemical Vendors|Curation Efforts|Governmental...</td>\n      <td>NaN</td>\n    </tr>\n  </tbody>\n</table>\n<p>5 rows × 24 columns</p>\n</div>"
          },
          "metadata": {},
          "execution_count": 3
        }
      ]
    },
    {
      "cell_type": "code",
      "metadata": {
        "id": "-4r4YZqnD2OZ"
      },
      "source": [
        "df = df[['cid', 'iupacname']]"
      ],
      "execution_count": 4,
      "outputs": []
    },
    {
      "cell_type": "code",
      "metadata": {
        "colab": {
          "base_uri": "https://localhost:8080/",
          "height": 212
        },
        "id": "C4N-D-4rD_WR",
        "outputId": "19403919-8a75-4ab6-fa6a-10de801aff5a"
      },
      "source": [
        "display(df.head())\n",
        "print(len(df))"
      ],
      "execution_count": 5,
      "outputs": [
        {
          "output_type": "display_data",
          "data": {
            "text/plain": "     cid                                          iupacname\n0   1984              (4-acetamidophenyl) 2-hydroxybenzoate\n1   6635          (4-chlorophenyl) 4-chlorobenzenesulfonate\n2   7786   2-[2-(2-nonanoyloxyethoxy)ethoxy]ethyl nonanoate\n3  19668  2-[2-(diethylamino)ethoxy]ethyl 3-amino-4-buto...\n4  25318  1-(2,2-diphenylacetyl)oxybutan-2-yl-diethylaza...",
            "text/html": "<div>\n<style scoped>\n    .dataframe tbody tr th:only-of-type {\n        vertical-align: middle;\n    }\n\n    .dataframe tbody tr th {\n        vertical-align: top;\n    }\n\n    .dataframe thead th {\n        text-align: right;\n    }\n</style>\n<table border=\"1\" class=\"dataframe\">\n  <thead>\n    <tr style=\"text-align: right;\">\n      <th></th>\n      <th>cid</th>\n      <th>iupacname</th>\n    </tr>\n  </thead>\n  <tbody>\n    <tr>\n      <th>0</th>\n      <td>1984</td>\n      <td>(4-acetamidophenyl) 2-hydroxybenzoate</td>\n    </tr>\n    <tr>\n      <th>1</th>\n      <td>6635</td>\n      <td>(4-chlorophenyl) 4-chlorobenzenesulfonate</td>\n    </tr>\n    <tr>\n      <th>2</th>\n      <td>7786</td>\n      <td>2-[2-(2-nonanoyloxyethoxy)ethoxy]ethyl nonanoate</td>\n    </tr>\n    <tr>\n      <th>3</th>\n      <td>19668</td>\n      <td>2-[2-(diethylamino)ethoxy]ethyl 3-amino-4-buto...</td>\n    </tr>\n    <tr>\n      <th>4</th>\n      <td>25318</td>\n      <td>1-(2,2-diphenylacetyl)oxybutan-2-yl-diethylaza...</td>\n    </tr>\n  </tbody>\n</table>\n</div>"
          },
          "metadata": {}
        },
        {
          "output_type": "stream",
          "name": "stdout",
          "text": [
            "306330\n"
          ]
        }
      ]
    },
    {
      "cell_type": "code",
      "metadata": {
        "id": "cDMs4EgcEBJ3"
      },
      "source": [
        "df = df.dropna()\n",
        "df = df.drop_duplicates(subset='iupacname')"
      ],
      "execution_count": 6,
      "outputs": []
    },
    {
      "cell_type": "code",
      "metadata": {
        "colab": {
          "base_uri": "https://localhost:8080/",
          "height": 212
        },
        "id": "HG946w70EOOn",
        "outputId": "da79aa35-bfa3-42ac-fdbb-052715c5c9bb"
      },
      "source": [
        "display(df.head())\n",
        "print(len(df))"
      ],
      "execution_count": 7,
      "outputs": [
        {
          "output_type": "display_data",
          "data": {
            "text/plain": "     cid                                          iupacname\n0   1984              (4-acetamidophenyl) 2-hydroxybenzoate\n1   6635          (4-chlorophenyl) 4-chlorobenzenesulfonate\n2   7786   2-[2-(2-nonanoyloxyethoxy)ethoxy]ethyl nonanoate\n3  19668  2-[2-(diethylamino)ethoxy]ethyl 3-amino-4-buto...\n4  25318  1-(2,2-diphenylacetyl)oxybutan-2-yl-diethylaza...",
            "text/html": "<div>\n<style scoped>\n    .dataframe tbody tr th:only-of-type {\n        vertical-align: middle;\n    }\n\n    .dataframe tbody tr th {\n        vertical-align: top;\n    }\n\n    .dataframe thead th {\n        text-align: right;\n    }\n</style>\n<table border=\"1\" class=\"dataframe\">\n  <thead>\n    <tr style=\"text-align: right;\">\n      <th></th>\n      <th>cid</th>\n      <th>iupacname</th>\n    </tr>\n  </thead>\n  <tbody>\n    <tr>\n      <th>0</th>\n      <td>1984</td>\n      <td>(4-acetamidophenyl) 2-hydroxybenzoate</td>\n    </tr>\n    <tr>\n      <th>1</th>\n      <td>6635</td>\n      <td>(4-chlorophenyl) 4-chlorobenzenesulfonate</td>\n    </tr>\n    <tr>\n      <th>2</th>\n      <td>7786</td>\n      <td>2-[2-(2-nonanoyloxyethoxy)ethoxy]ethyl nonanoate</td>\n    </tr>\n    <tr>\n      <th>3</th>\n      <td>19668</td>\n      <td>2-[2-(diethylamino)ethoxy]ethyl 3-amino-4-buto...</td>\n    </tr>\n    <tr>\n      <th>4</th>\n      <td>25318</td>\n      <td>1-(2,2-diphenylacetyl)oxybutan-2-yl-diethylaza...</td>\n    </tr>\n  </tbody>\n</table>\n</div>"
          },
          "metadata": {}
        },
        {
          "output_type": "stream",
          "name": "stdout",
          "text": [
            "303131\n"
          ]
        }
      ]
    },
    {
      "cell_type": "code",
      "metadata": {
        "colab": {
          "base_uri": "https://localhost:8080/",
          "height": 402
        },
        "id": "V6hMRTj7EVJY",
        "outputId": "a31355a1-ad76-4685-a942-0528903be03f"
      },
      "source": [
        "df = df[~df.iupacname.str.contains(';')].reset_index(drop=True)\n",
        "df"
      ],
      "execution_count": 8,
      "outputs": [
        {
          "output_type": "execute_result",
          "data": {
            "text/plain": [
              "              cid                                          iupacname\n",
              "0            1984              (4-acetamidophenyl) 2-hydroxybenzoate\n",
              "1            6635          (4-chlorophenyl) 4-chlorobenzenesulfonate\n",
              "2            7786   2-[2-(2-nonanoyloxyethoxy)ethoxy]ethyl nonanoate\n",
              "3           19668  2-[2-(diethylamino)ethoxy]ethyl 3-amino-4-buto...\n",
              "4           38228                methyl 3-acetamido-4-phenylbenzoate\n",
              "...           ...                                                ...\n",
              "293914   16700142                           methoxy(methyl)phosphane\n",
              "293915   17878521                                  ethyl hypobromite\n",
              "293916   85948466                               methoxy hypochlorite\n",
              "293917  101689026                          methoxy(oxido)phosphanium\n",
              "293918  102239094                               methoxyarsinous acid\n",
              "\n",
              "[293919 rows x 2 columns]"
            ],
            "text/html": "<div>\n<style scoped>\n    .dataframe tbody tr th:only-of-type {\n        vertical-align: middle;\n    }\n\n    .dataframe tbody tr th {\n        vertical-align: top;\n    }\n\n    .dataframe thead th {\n        text-align: right;\n    }\n</style>\n<table border=\"1\" class=\"dataframe\">\n  <thead>\n    <tr style=\"text-align: right;\">\n      <th></th>\n      <th>cid</th>\n      <th>iupacname</th>\n    </tr>\n  </thead>\n  <tbody>\n    <tr>\n      <th>0</th>\n      <td>1984</td>\n      <td>(4-acetamidophenyl) 2-hydroxybenzoate</td>\n    </tr>\n    <tr>\n      <th>1</th>\n      <td>6635</td>\n      <td>(4-chlorophenyl) 4-chlorobenzenesulfonate</td>\n    </tr>\n    <tr>\n      <th>2</th>\n      <td>7786</td>\n      <td>2-[2-(2-nonanoyloxyethoxy)ethoxy]ethyl nonanoate</td>\n    </tr>\n    <tr>\n      <th>3</th>\n      <td>19668</td>\n      <td>2-[2-(diethylamino)ethoxy]ethyl 3-amino-4-buto...</td>\n    </tr>\n    <tr>\n      <th>4</th>\n      <td>38228</td>\n      <td>methyl 3-acetamido-4-phenylbenzoate</td>\n    </tr>\n    <tr>\n      <th>...</th>\n      <td>...</td>\n      <td>...</td>\n    </tr>\n    <tr>\n      <th>293914</th>\n      <td>16700142</td>\n      <td>methoxy(methyl)phosphane</td>\n    </tr>\n    <tr>\n      <th>293915</th>\n      <td>17878521</td>\n      <td>ethyl hypobromite</td>\n    </tr>\n    <tr>\n      <th>293916</th>\n      <td>85948466</td>\n      <td>methoxy hypochlorite</td>\n    </tr>\n    <tr>\n      <th>293917</th>\n      <td>101689026</td>\n      <td>methoxy(oxido)phosphanium</td>\n    </tr>\n    <tr>\n      <th>293918</th>\n      <td>102239094</td>\n      <td>methoxyarsinous acid</td>\n    </tr>\n  </tbody>\n</table>\n<p>293919 rows × 2 columns</p>\n</div>"
          },
          "metadata": {},
          "execution_count": 8
        }
      ]
    },
    {
      "cell_type": "code",
      "execution_count": 9,
      "metadata": {},
      "outputs": [],
      "source": [
        "from nami.AI.kme_tokenize import Segmentation\n",
        "import tensorflow as tf\n",
        "\n",
        "gpus = tf.config.experimental.list_physical_devices('GPU')\n",
        "tf.config.experimental.set_visible_devices(gpus[0], 'GPU')\n",
        "tf.config.experimental.set_memory_growth(gpus[0], True)"
      ]
    },
    {
      "cell_type": "code",
      "execution_count": 10,
      "metadata": {},
      "outputs": [],
      "source": [
        "kme_segmentor = Segmentation()"
      ]
    },
    {
      "cell_type": "code",
      "execution_count": 11,
      "metadata": {},
      "outputs": [],
      "source": [
        "from tqdm import tqdm\n",
        "tqdm.pandas()"
      ]
    },
    {
      "cell_type": "code",
      "execution_count": 12,
      "metadata": {},
      "outputs": [
        {
          "output_type": "stream",
          "name": "stderr",
          "text": [
            "100%|██████████| 293919/293919 [2:35:59<00:00, 31.40it/s]\n"
          ]
        }
      ],
      "source": [
        "df['iupacname_cut'] = df['iupacname'].progress_apply(lambda x: kme_segmentor.word_segmentation(x)[1])"
      ]
    },
    {
      "cell_type": "code",
      "execution_count": 13,
      "metadata": {},
      "outputs": [],
      "source": [
        "df.to_csv(\"complete_ester.csv\")"
      ]
    },
    {
      "cell_type": "code",
      "execution_count": 14,
      "metadata": {},
      "outputs": [
        {
          "output_type": "execute_result",
          "data": {
            "text/plain": [
              "     cid                                          iupacname  \\\n",
              "0   1984              (4-acetamidophenyl) 2-hydroxybenzoate   \n",
              "1   6635          (4-chlorophenyl) 4-chlorobenzenesulfonate   \n",
              "2   7786   2-[2-(2-nonanoyloxyethoxy)ethoxy]ethyl nonanoate   \n",
              "3  19668  2-[2-(diethylamino)ethoxy]ethyl 3-amino-4-buto...   \n",
              "4  38228                methyl 3-acetamido-4-phenylbenzoate   \n",
              "\n",
              "                                       iupacname_cut  \n",
              "0  (|4|-|acet|a|midophen|yl|)| |2|-|hydroxy|benz|...  \n",
              "1  (|4|-|chloro|phen|yl|)| |4|-|chloro|benz|ene|s...  \n",
              "2  2|-|[|2|-|(|2|-|non|an|oyl|oxy|eth|oxy|)|eth|o...  \n",
              "3  2|-|[|2|-|(|di|eth|yl|amino|)|eth|oxy|]|eth|yl...  \n",
              "4  meth|yl| |3|-|acet|a|mido|-|4|-|phen|yl|benz|oate  "
            ],
            "text/html": "<div>\n<style scoped>\n    .dataframe tbody tr th:only-of-type {\n        vertical-align: middle;\n    }\n\n    .dataframe tbody tr th {\n        vertical-align: top;\n    }\n\n    .dataframe thead th {\n        text-align: right;\n    }\n</style>\n<table border=\"1\" class=\"dataframe\">\n  <thead>\n    <tr style=\"text-align: right;\">\n      <th></th>\n      <th>cid</th>\n      <th>iupacname</th>\n      <th>iupacname_cut</th>\n    </tr>\n  </thead>\n  <tbody>\n    <tr>\n      <th>0</th>\n      <td>1984</td>\n      <td>(4-acetamidophenyl) 2-hydroxybenzoate</td>\n      <td>(|4|-|acet|a|midophen|yl|)| |2|-|hydroxy|benz|...</td>\n    </tr>\n    <tr>\n      <th>1</th>\n      <td>6635</td>\n      <td>(4-chlorophenyl) 4-chlorobenzenesulfonate</td>\n      <td>(|4|-|chloro|phen|yl|)| |4|-|chloro|benz|ene|s...</td>\n    </tr>\n    <tr>\n      <th>2</th>\n      <td>7786</td>\n      <td>2-[2-(2-nonanoyloxyethoxy)ethoxy]ethyl nonanoate</td>\n      <td>2|-|[|2|-|(|2|-|non|an|oyl|oxy|eth|oxy|)|eth|o...</td>\n    </tr>\n    <tr>\n      <th>3</th>\n      <td>19668</td>\n      <td>2-[2-(diethylamino)ethoxy]ethyl 3-amino-4-buto...</td>\n      <td>2|-|[|2|-|(|di|eth|yl|amino|)|eth|oxy|]|eth|yl...</td>\n    </tr>\n    <tr>\n      <th>4</th>\n      <td>38228</td>\n      <td>methyl 3-acetamido-4-phenylbenzoate</td>\n      <td>meth|yl| |3|-|acet|a|mido|-|4|-|phen|yl|benz|oate</td>\n    </tr>\n  </tbody>\n</table>\n</div>"
          },
          "metadata": {},
          "execution_count": 14
        }
      ],
      "source": [
        "df.head()"
      ]
    },
    {
      "cell_type": "code",
      "execution_count": 32,
      "metadata": {
        "tags": []
      },
      "outputs": [
        {
          "output_type": "stream",
          "name": "stdout",
          "text": [
            "6635\n(4-chlorophenyl) 4-chlorobenzenesulfonate\n(|4|-|chloro|phen|yl|)| |4|-|chloro|benz|ene|sulfon|ate\n"
          ]
        }
      ],
      "source": [
        "d_cid = {'values': df['cid'].tolist()}\n",
        "print(d_cid['values'][1])\n",
        "\n",
        "d_iupac = {'values': df['iupacname'].tolist()}\n",
        "print(d_iupac['values'][1])\n",
        "\n",
        "d_iupac_cut = {'values': df['iupacname_cut'].tolist()}\n",
        "print(d_iupac_cut['values'][1])"
      ]
    },
    {
      "cell_type": "code",
      "execution_count": 34,
      "metadata": {},
      "outputs": [],
      "source": [
        "import json\n",
        "with open('database/cid/Dict_ester_cid_1-5-21.json', 'w') as f_cid:\n",
        "    json.dump(d_cid, f_cid)\n",
        "\n",
        "\n",
        "with open('database/iupac_name/Dict_ester_iupac_1-5-21.json', 'w') as f_iupac:\n",
        "    json.dump(d_iupac, f_iupac)\n",
        "\n",
        "\n",
        "with open('database/iupac_cut/Dict_ester_cut_1-5-21.json', 'w') as f_cut:\n",
        "    json.dump(d_iupac_cut, f_cut)    "
      ]
    },
    {
      "cell_type": "code",
      "execution_count": null,
      "metadata": {},
      "outputs": [],
      "source": []
    }
  ]
}